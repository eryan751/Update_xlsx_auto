{
 "cells": [
  {
   "cell_type": "code",
   "execution_count": 1,
   "metadata": {},
   "outputs": [],
   "source": [
    "#Atualizar valor de determinadas celulas em um determinado periodo de tempo.\n",
    "from openpyxl import load_workbook\n",
    "import pandas as pd\n"
   ]
  },
  {
   "cell_type": "code",
   "execution_count": 2,
   "metadata": {},
   "outputs": [
    {
     "name": "stderr",
     "output_type": "stream",
     "text": [
      "<>:2: SyntaxWarning: invalid escape sequence '\\D'\n",
      "<>:2: SyntaxWarning: invalid escape sequence '\\D'\n",
      "C:\\Users\\Teste\\AppData\\Local\\Temp\\ipykernel_1816\\3545880795.py:2: SyntaxWarning: invalid escape sequence '\\D'\n",
      "  planilha = pd.read_excel(\"C:\\Desktop\\Projeto principal automatização\\pLA_aUTO.xlsx\")\n"
     ]
    },
    {
     "data": {
      "text/html": [
       "<div>\n",
       "<style scoped>\n",
       "    .dataframe tbody tr th:only-of-type {\n",
       "        vertical-align: middle;\n",
       "    }\n",
       "\n",
       "    .dataframe tbody tr th {\n",
       "        vertical-align: top;\n",
       "    }\n",
       "\n",
       "    .dataframe thead th {\n",
       "        text-align: right;\n",
       "    }\n",
       "</style>\n",
       "<table border=\"1\" class=\"dataframe\">\n",
       "  <thead>\n",
       "    <tr style=\"text-align: right;\">\n",
       "      <th></th>\n",
       "      <th>Unnamed: 0</th>\n",
       "      <th>Unnamed: 1</th>\n",
       "    </tr>\n",
       "  </thead>\n",
       "  <tbody>\n",
       "    <tr>\n",
       "      <th>0</th>\n",
       "      <td>NaN</td>\n",
       "      <td>NaN</td>\n",
       "    </tr>\n",
       "    <tr>\n",
       "      <th>1</th>\n",
       "      <td>NOME PRODUTO</td>\n",
       "      <td>VALOR</td>\n",
       "    </tr>\n",
       "    <tr>\n",
       "      <th>2</th>\n",
       "      <td>ARROZ - 5KG</td>\n",
       "      <td>15</td>\n",
       "    </tr>\n",
       "    <tr>\n",
       "      <th>3</th>\n",
       "      <td>FEIJÃO - 3KG</td>\n",
       "      <td>10</td>\n",
       "    </tr>\n",
       "    <tr>\n",
       "      <th>4</th>\n",
       "      <td>PÃO - 1KG</td>\n",
       "      <td>12</td>\n",
       "    </tr>\n",
       "    <tr>\n",
       "      <th>5</th>\n",
       "      <td>LEITE - 500ML</td>\n",
       "      <td>15</td>\n",
       "    </tr>\n",
       "  </tbody>\n",
       "</table>\n",
       "</div>"
      ],
      "text/plain": [
       "      Unnamed: 0 Unnamed: 1\n",
       "0            NaN        NaN\n",
       "1   NOME PRODUTO      VALOR\n",
       "2    ARROZ - 5KG         15\n",
       "3   FEIJÃO - 3KG         10\n",
       "4      PÃO - 1KG         12\n",
       "5  LEITE - 500ML         15"
      ]
     },
     "metadata": {},
     "output_type": "display_data"
    }
   ],
   "source": [
    "#Ver dados da planilha\n",
    "planilha = pd.read_excel(\"C:\\Desktop\\Projeto principal automatização\\pLA_aUTO.xlsx\")\n",
    "display(planilha)"
   ]
  },
  {
   "cell_type": "code",
   "execution_count": 5,
   "metadata": {},
   "outputs": [
    {
     "name": "stderr",
     "output_type": "stream",
     "text": [
      "<>:10: SyntaxWarning: invalid escape sequence '\\D'\n",
      "<>:10: SyntaxWarning: invalid escape sequence '\\D'\n",
      "C:\\Users\\Teste\\AppData\\Local\\Temp\\ipykernel_1816\\1479490617.py:10: SyntaxWarning: invalid escape sequence '\\D'\n",
      "  arquivo.save(\"C:\\Desktop\\Projeto principal automatização\\pLA_aUTO.xlsx\")\n"
     ]
    }
   ],
   "source": [
    "def auto_update(planilha_original):\n",
    "    arquivo = load_workbook(planilha_original)\n",
    "    aba_utilizada = arquivo.active\n",
    "    Cell = int(input(\"Qual linha desejada: \"))\n",
    "    Cell_column = int(input(\"Qual a coluna desejada: \"))\n",
    "    valor_Cell = aba_utilizada.cell(row=Cell, column=Cell_column).value\n",
    "    for celula in aba_utilizada[valor_Cell]:\n",
    "        if celula.value == valor_Cell:\n",
    "            aba_utilizada[valor_Cell] + aba_utilizada[valor_Cell]+2/100\n",
    "    arquivo.save(\"C:\\Desktop\\Projeto principal automatização\\pLA_aUTO.xlsx\")\n",
    "    "
   ]
  },
  {
   "cell_type": "code",
   "execution_count": 6,
   "metadata": {},
   "outputs": [
    {
     "name": "stderr",
     "output_type": "stream",
     "text": [
      "<>:1: SyntaxWarning: invalid escape sequence '\\D'\n",
      "<>:1: SyntaxWarning: invalid escape sequence '\\D'\n",
      "C:\\Users\\Teste\\AppData\\Local\\Temp\\ipykernel_1816\\3003931394.py:1: SyntaxWarning: invalid escape sequence '\\D'\n",
      "  arquivo = load_workbook(\"C:\\Desktop\\Projeto principal automatização\\pLA_aUTO.xlsx\")\n"
     ]
    }
   ],
   "source": [
    "arquivo = load_workbook(\"C:\\Desktop\\Projeto principal automatização\\pLA_aUTO.xlsx\")\n",
    "aba_utilizada = arquivo.active\n",
    "Cell = int(input(\"Qual linha desejada: \"))\n",
    "Cell_column = int(input(\"Qual a coluna desejada: \"))\n",
    "valor_Cell = aba_utilizada.cell(row=Cell, column=Cell_column).value\n",
    "\n"
   ]
  },
  {
   "cell_type": "code",
   "execution_count": 7,
   "metadata": {},
   "outputs": [],
   "source": [
    "valor_Cell = aba_utilizada.cell(row=Cell, column=Cell_column).value = valor_Cell + valor_Cell*2/100\n",
    "arquivo.save(\"update.xlsx\")"
   ]
  },
  {
   "cell_type": "code",
   "execution_count": null,
   "metadata": {},
   "outputs": [],
   "source": []
  }
 ],
 "metadata": {
  "kernelspec": {
   "display_name": "Python 3",
   "language": "python",
   "name": "python3"
  },
  "language_info": {
   "codemirror_mode": {
    "name": "ipython",
    "version": 3
   },
   "file_extension": ".py",
   "mimetype": "text/x-python",
   "name": "python",
   "nbconvert_exporter": "python",
   "pygments_lexer": "ipython3",
   "version": "3.12.3"
  }
 },
 "nbformat": 4,
 "nbformat_minor": 2
}
